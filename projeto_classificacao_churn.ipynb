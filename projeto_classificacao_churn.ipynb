{
  "nbformat": 4,
  "nbformat_minor": 0,
  "metadata": {
    "colab": {
      "provenance": [],
      "collapsed_sections": [],
      "authorship_tag": "ABX9TyMM/RuHLza7i2kjjTzAkLTv",
      "include_colab_link": true
    },
    "kernelspec": {
      "name": "python3",
      "display_name": "Python 3"
    },
    "language_info": {
      "name": "python"
    }
  },
  "cells": [
    {
      "cell_type": "markdown",
      "metadata": {
        "id": "view-in-github",
        "colab_type": "text"
      },
      "source": [
        "<a href=\"https://colab.research.google.com/github/MarcosWBeltrami/Projeto_Classificacao_Churn/blob/main/projeto_classificacao_churn.ipynb\" target=\"_parent\"><img src=\"https://colab.research.google.com/assets/colab-badge.svg\" alt=\"Open In Colab\"/></a>"
      ]
    },
    {
      "cell_type": "markdown",
      "source": [
        "# Projeto Classificação de Churn\n",
        "### Este projeto tem como objetivo analisar dados de clientes que possam ser possiveis churn para a empresa, e alcançar a melhor forma de conseguir identificar estes clientes.\n",
        "###### Churn é uma métrica que indica o quanto sua empresa perdeu de receita ou clientes."
      ],
      "metadata": {
        "id": "ID-6TWy3zpuP"
      }
    },
    {
      "cell_type": "markdown",
      "source": [
        "# 1 - Imports PySpark e Dados"
      ],
      "metadata": {
        "id": "6C-JH2h9EeZ8"
      }
    },
    {
      "cell_type": "code",
      "execution_count": 42,
      "metadata": {
        "colab": {
          "base_uri": "https://localhost:8080/"
        },
        "id": "iclhRhhANZTP",
        "outputId": "53f5f60f-8d39-4d0f-a83d-26a4338f0479"
      },
      "outputs": [
        {
          "output_type": "stream",
          "name": "stdout",
          "text": [
            "Looking in indexes: https://pypi.org/simple, https://us-python.pkg.dev/colab-wheels/public/simple/\n",
            "Requirement already satisfied: pyspark in /usr/local/lib/python3.7/dist-packages (3.3.0)\n",
            "Requirement already satisfied: py4j==0.10.9.5 in /usr/local/lib/python3.7/dist-packages (from pyspark) (0.10.9.5)\n"
          ]
        }
      ],
      "source": [
        "!pip install pyspark"
      ]
    },
    {
      "cell_type": "code",
      "source": [
        "from pyspark.sql import SparkSession\n",
        "from pyspark.sql import functions as f\n",
        "from pyspark.ml.feature import VectorAssembler\n",
        "from pyspark.ml.classification import LogisticRegression\n",
        "from pyspark.ml.classification import DecisionTreeClassifier\n",
        "from pyspark.ml.evaluation import MulticlassClassificationEvaluator\n",
        "from pyspark.ml.classification import RandomForestClassifier\n",
        "from pyspark.ml.tuning import CrossValidator, ParamGridBuilder"
      ],
      "metadata": {
        "id": "hXNcFlL-Nmct"
      },
      "execution_count": 43,
      "outputs": []
    },
    {
      "cell_type": "code",
      "source": [
        "spark = SparkSession.builder.getOrCreate()\n",
        "dados = spark.read.csv('dados_clientes.csv', sep=',', header=True, inferSchema=True)"
      ],
      "metadata": {
        "id": "IpxY3_XfNr0h"
      },
      "execution_count": 44,
      "outputs": []
    },
    {
      "cell_type": "markdown",
      "source": [
        "# 1.1 - Forma que os dados foram recebidos"
      ],
      "metadata": {
        "id": "aELeLRy5FPVr"
      }
    },
    {
      "cell_type": "code",
      "source": [
        "dados.show()"
      ],
      "metadata": {
        "colab": {
          "base_uri": "https://localhost:8080/"
        },
        "id": "lmjrKzh7FOr9",
        "outputId": "134c2bdd-73c0-47e7-9aab-8a2059635a26"
      },
      "execution_count": 45,
      "outputs": [
        {
          "output_type": "stream",
          "name": "stdout",
          "text": [
            "+---+-----+----------+-------+-----------+---------------+------------+------------------------+-----------+------------------+------------------+------------------+------------------+------------------+------------------+------------+------------+----------------+-------------+\n",
            "| id|Churn|Mais65anos|Conjuge|Dependentes|MesesDeContrato|TelefoneFixo|MaisDeUmaLinhaTelefonica|   Internet|   SegurancaOnline|      BackupOnline| SeguroDispositivo|    SuporteTecnico|           TVaCabo|   StreamingFilmes|TipoContrato|ContaCorreio| MetodoPagamento|MesesCobrados|\n",
            "+---+-----+----------+-------+-----------+---------------+------------+------------------------+-----------+------------------+------------------+------------------+------------------+------------------+------------------+------------+------------+----------------+-------------+\n",
            "|  0|  Nao|         0|    Sim|        Nao|              1|         Nao|    SemServicoTelefonico|        DSL|               Nao|               Sim|               Nao|               Nao|               Nao|               Nao| Mensalmente|         Sim|BoletoEletronico|        29.85|\n",
            "|  1|  Nao|         0|    Nao|        Nao|             34|         Sim|                     Nao|        DSL|               Sim|               Nao|               Sim|               Nao|               Nao|               Nao|       UmAno|         Nao|          Boleto|        56.95|\n",
            "|  2|  Sim|         0|    Nao|        Nao|              2|         Sim|                     Nao|        DSL|               Sim|               Sim|               Nao|               Nao|               Nao|               Nao| Mensalmente|         Sim|          Boleto|        53.85|\n",
            "|  3|  Nao|         0|    Nao|        Nao|             45|         Nao|    SemServicoTelefonico|        DSL|               Sim|               Nao|               Sim|               Sim|               Nao|               Nao|       UmAno|         Nao|   DebitoEmConta|         42.3|\n",
            "|  4|  Sim|         0|    Nao|        Nao|              2|         Sim|                     Nao|FibraOptica|               Nao|               Nao|               Nao|               Nao|               Nao|               Nao| Mensalmente|         Sim|BoletoEletronico|         70.7|\n",
            "|  5|  Sim|         0|    Nao|        Nao|              8|         Sim|                     Sim|FibraOptica|               Nao|               Nao|               Sim|               Nao|               Sim|               Sim| Mensalmente|         Sim|BoletoEletronico|        99.65|\n",
            "|  6|  Nao|         0|    Nao|        Sim|             22|         Sim|                     Sim|FibraOptica|               Nao|               Sim|               Nao|               Nao|               Sim|               Nao| Mensalmente|         Sim|   CartaoCredito|         89.1|\n",
            "|  7|  Nao|         0|    Nao|        Nao|             10|         Nao|    SemServicoTelefonico|        DSL|               Sim|               Nao|               Nao|               Nao|               Nao|               Nao| Mensalmente|         Nao|          Boleto|        29.75|\n",
            "|  8|  Sim|         0|    Sim|        Nao|             28|         Sim|                     Sim|FibraOptica|               Nao|               Nao|               Sim|               Sim|               Sim|               Sim| Mensalmente|         Sim|BoletoEletronico|        104.8|\n",
            "|  9|  Nao|         0|    Nao|        Sim|             62|         Sim|                     Nao|        DSL|               Sim|               Sim|               Nao|               Nao|               Nao|               Nao|       UmAno|         Nao|   DebitoEmConta|        56.15|\n",
            "| 10|  Nao|         0|    Sim|        Sim|             13|         Sim|                     Nao|        DSL|               Sim|               Nao|               Nao|               Nao|               Nao|               Nao| Mensalmente|         Sim|          Boleto|        49.95|\n",
            "| 11|  Nao|         0|    Nao|        Nao|             16|         Sim|                     Nao|        Nao|SemServicoInternet|SemServicoInternet|SemServicoInternet|SemServicoInternet|SemServicoInternet|SemServicoInternet|    DoisAnos|         Nao|   CartaoCredito|        18.95|\n",
            "| 12|  Nao|         0|    Sim|        Nao|             58|         Sim|                     Sim|FibraOptica|               Nao|               Nao|               Sim|               Nao|               Sim|               Sim|       UmAno|         Nao|   CartaoCredito|       100.35|\n",
            "| 13|  Sim|         0|    Nao|        Nao|             49|         Sim|                     Sim|FibraOptica|               Nao|               Sim|               Sim|               Nao|               Sim|               Sim| Mensalmente|         Sim|   DebitoEmConta|        103.7|\n",
            "| 14|  Nao|         0|    Nao|        Nao|             25|         Sim|                     Nao|FibraOptica|               Sim|               Nao|               Sim|               Sim|               Sim|               Sim| Mensalmente|         Sim|BoletoEletronico|        105.5|\n",
            "| 15|  Nao|         0|    Sim|        Sim|             69|         Sim|                     Sim|FibraOptica|               Sim|               Sim|               Sim|               Sim|               Sim|               Sim|    DoisAnos|         Nao|   CartaoCredito|       113.25|\n",
            "| 16|  Nao|         0|    Nao|        Nao|             52|         Sim|                     Nao|        Nao|SemServicoInternet|SemServicoInternet|SemServicoInternet|SemServicoInternet|SemServicoInternet|SemServicoInternet|       UmAno|         Nao|          Boleto|        20.65|\n",
            "| 17|  Nao|         0|    Nao|        Sim|             71|         Sim|                     Sim|FibraOptica|               Sim|               Nao|               Sim|               Nao|               Sim|               Sim|    DoisAnos|         Nao|   DebitoEmConta|        106.7|\n",
            "| 18|  Sim|         0|    Sim|        Sim|             10|         Sim|                     Nao|        DSL|               Nao|               Nao|               Sim|               Sim|               Nao|               Nao| Mensalmente|         Nao|   CartaoCredito|         55.2|\n",
            "| 19|  Nao|         0|    Nao|        Nao|             21|         Sim|                     Nao|FibraOptica|               Nao|               Sim|               Sim|               Nao|               Nao|               Sim| Mensalmente|         Sim|BoletoEletronico|        90.05|\n",
            "+---+-----+----------+-------+-----------+---------------+------------+------------------------+-----------+------------------+------------------+------------------+------------------+------------------+------------------+------------+------------+----------------+-------------+\n",
            "only showing top 20 rows\n",
            "\n"
          ]
        }
      ]
    },
    {
      "cell_type": "markdown",
      "source": [
        "# 2 -Tranformação em Binarios\n",
        "#### Identificar quais colunas são possiveis fazer a tranformação e realizar a correção dos dados para melhor analise dos dados."
      ],
      "metadata": {
        "id": "zPsXOJgZzrlu"
      }
    },
    {
      "cell_type": "code",
      "source": [
        "colunasBinarias = [\n",
        "    'Churn',\n",
        "    'Conjuge',\n",
        "    'Dependentes',\n",
        "    'TelefoneFixo',\n",
        "    'MaisDeUmaLinhaTelefonica',\n",
        "    'SegurancaOnline',\n",
        "    'BackupOnline',\n",
        "    'SeguroDispositivo',\n",
        "    'SuporteTecnico',\n",
        "    'TVaCabo',\n",
        "    'StreamingFilmes',\n",
        "    'ContaCorreio'\n",
        "]"
      ],
      "metadata": {
        "id": "eXSH_mrUVFQG"
      },
      "execution_count": 46,
      "outputs": []
    },
    {
      "cell_type": "code",
      "source": [
        "Tcolunas = [f.when(f.col(c)=='Sim', 1).otherwise(0).alias(c) for c in colunasBinarias]\n",
        "\n",
        "\n",
        "for coluna in reversed(dados.columns):\n",
        "  if coluna not in colunasBinarias:\n",
        "    Tcolunas.insert(0, coluna)\n",
        "\n",
        "\n",
        "dataset = dados.select(Tcolunas)\n",
        "\n",
        "\n",
        "internet = dataset.groupBy('id').pivot('Internet').agg(f.lit(1)).na.fill(0)\n",
        "tipoContrato = dataset.groupBy('id').pivot('TipoContrato').agg(f.lit(1)).na.fill(0)\n",
        "metodoPagamento = dataset.groupBy('id').pivot('MetodoPagamento').agg(f.lit(1)).na.fill(0)"
      ],
      "metadata": {
        "id": "qTGNLz8QGZS9"
      },
      "execution_count": 47,
      "outputs": []
    },
    {
      "cell_type": "markdown",
      "source": [
        "# 3 - Join e Renomeação"
      ],
      "metadata": {
        "id": "8lkTk_5dzsQX"
      }
    },
    {
      "cell_type": "code",
      "source": [
        "dataset = dataset\\\n",
        "    .join(internet, 'id', how='inner')\\\n",
        "    .join(tipoContrato, 'id', how='inner')\\\n",
        "    .join(metodoPagamento, 'id', how='inner')\\\n",
        "    .select(\n",
        "        '*',\n",
        "        f.col('DSL').alias('Internet_DSL'), \n",
        "        f.col('FibraOptica').alias('Internet_FibraOptica'), \n",
        "        f.col('Nao').alias('Internet_Nao'), \n",
        "        f.col('Mensalmente').alias('TipoContrato_Mensalmente'), \n",
        "        f.col('UmAno').alias('TipoContrato_UmAno'), \n",
        "        f.col('DoisAnos').alias('TipoContrato_DoisAnos'), \n",
        "        f.col('DebitoEmConta').alias('MetodoPagamento_DebitoEmConta'), \n",
        "        f.col('CartaoCredito').alias('MetodoPagamento_CartaoCredito'), \n",
        "        f.col('BoletoEletronico').alias('MetodoPagamento_BoletoEletronico'), \n",
        "        f.col('Boleto').alias('MetodoPagamento_Boleto')        \n",
        "    ).drop(\n",
        "        'Internet', 'TipoContrato', 'MetodoPagamento', 'DSL', \n",
        "        'FibraOptica', 'Nao', 'Mensalmente', 'UmAno', 'DoisAnos', \n",
        "        'DebitoEmConta', 'CartaoCredito', 'BoletoEletronico', 'Boleto'\n",
        "    )"
      ],
      "metadata": {
        "id": "g1DSdGJBI7xt"
      },
      "execution_count": 48,
      "outputs": []
    },
    {
      "cell_type": "markdown",
      "source": [
        "# 4 - Tratamento das Colunas"
      ],
      "metadata": {
        "id": "ExtnWTJii8Kr"
      }
    },
    {
      "cell_type": "code",
      "source": [
        "dataset = dataset.withColumnRenamed('Churn', 'label')\n",
        "\n",
        "\n",
        "x = dataset.columns\n",
        "x.remove('label')\n",
        "x.remove('id')\n",
        "\n",
        "\n",
        "assembler = VectorAssembler(inputCols=x, outputCol='features')\n",
        "dataset_pred = assembler.transform(dataset).select('features', 'label')"
      ],
      "metadata": {
        "id": "2S44KqSggq7K"
      },
      "execution_count": 49,
      "outputs": []
    },
    {
      "cell_type": "code",
      "source": [
        "Seed = 101\n",
        "treino, teste = dataset_pred.randomSplit([0.7, 0.3], seed=Seed)\n",
        "\n",
        "\n",
        "lr = LogisticRegression()\n",
        "\n",
        "\n",
        "modelo_lr = lr.fit(treino)\n",
        "previsoes_lr_teste = modelo_lr.transform(teste)\n",
        "\n",
        "\n",
        "resumo_lr_treino = modelo_lr.summary\n",
        "resumo_lr_treino.accuracy"
      ],
      "metadata": {
        "id": "KuYZ3oGOlTay",
        "colab": {
          "base_uri": "https://localhost:8080/"
        },
        "outputId": "2739503b-3940-4c2f-cf1e-77f3675354ad"
      },
      "execution_count": 50,
      "outputs": [
        {
          "output_type": "execute_result",
          "data": {
            "text/plain": [
              "0.7849014709963918"
            ]
          },
          "metadata": {},
          "execution_count": 50
        }
      ]
    },
    {
      "cell_type": "markdown",
      "source": [
        "# 5 - Funções"
      ],
      "metadata": {
        "id": "P1gl2Vtng--r"
      }
    },
    {
      "cell_type": "code",
      "source": [
        "def resultado_teste(teste):\n",
        "  print('Decision Tree Classifier - Tuning')\n",
        "  print(\"=\"*40)\n",
        "  print(\"Dados de Teste\")\n",
        "  print(\"=\"*40)\n",
        "  print(\"Matriz de Confusão\")\n",
        "  print(\"-\"*40)\n",
        "  calcula_mostra_matriz_confusao(previsoes_dtc_cv_teste, normalize=False)\n",
        "  print(\"-\"*40)\n",
        "  print(\"Métricas\")\n",
        "  print(\"-\"*40)\n",
        "  print(\"Acurácia: %f\" % evaluator.evaluate(previsoes_dtc_cv_teste, {evaluator.metricName: \"accuracy\"}))\n",
        "  print(\"Precisão: %f\" % evaluator.evaluate(previsoes_dtc_cv_teste, {evaluator.metricName: \"precisionByLabel\", evaluator.metricLabel: 1}))\n",
        "  print(\"Recall: %f\" % evaluator.evaluate(previsoes_dtc_cv_teste, {evaluator.metricName: \"recallByLabel\", evaluator.metricLabel: 1}))\n",
        "  print(\"F1: %f\" % evaluator.evaluate(previsoes_dtc_cv_teste, {evaluator.metricName: \"fMeasureByLabel\", evaluator.metricLabel: 1}))"
      ],
      "metadata": {
        "id": "M3DaPLzQhXK1"
      },
      "execution_count": 51,
      "outputs": []
    },
    {
      "cell_type": "code",
      "source": [
        "def resultado_treino_teste(treino, teste):\n",
        "  print('Decision Tree Classifier')\n",
        "  print(\"=\"*40)\n",
        "  print(\"Dados de Treino\")\n",
        "  print(\"=\"*40)\n",
        "  print(\"Matriz de Confusão\")\n",
        "  print(\"-\"*40)\n",
        "  calcula_mostra_matriz_confusao(treino, normalize=False)\n",
        "  print(\"-\"*40)\n",
        "  print(\"Métricas\")\n",
        "  print(\"-\"*40)\n",
        "  print(\"Acurácia: %f\" % evaluator.evaluate(treino, {evaluator.metricName: \"accuracy\"}))\n",
        "  print(\"Precisão: %f\" % evaluator.evaluate(treino, {evaluator.metricName: \"precisionByLabel\", evaluator.metricLabel: 1}))\n",
        "  print(\"Recall: %f\" % evaluator.evaluate(treino, {evaluator.metricName: \"recallByLabel\", evaluator.metricLabel: 1}))\n",
        "  print(\"F1: %f\" % evaluator.evaluate(treino, {evaluator.metricName: \"fMeasureByLabel\", evaluator.metricLabel: 1}))\n",
        "  print(\"\")\n",
        "  print(\"=\"*40)\n",
        "  print(\"Dados de Teste\")\n",
        "  print(\"=\"*40)\n",
        "  print(\"Matriz de Confusão\")\n",
        "  print(\"-\"*40)\n",
        "  calcula_mostra_matriz_confusao(teste, normalize=False)\n",
        "  print(\"-\"*40)\n",
        "  print(\"Métricas\")\n",
        "  print(\"-\"*40)\n",
        "  print(\"Acurácia: %f\" % evaluator.evaluate(teste, {evaluator.metricName: \"accuracy\"}))\n",
        "  print(\"Precisão: %f\" % evaluator.evaluate(teste, {evaluator.metricName: \"precisionByLabel\", evaluator.metricLabel: 1}))\n",
        "  print(\"Recall: %f\" % evaluator.evaluate(teste, {evaluator.metricName: \"recallByLabel\", evaluator.metricLabel: 1}))\n",
        "  print(\"F1: %f\" % evaluator.evaluate(teste, {evaluator.metricName: \"fMeasureByLabel\", evaluator.metricLabel: 1}))"
      ],
      "metadata": {
        "id": "X5leEBd8fscM"
      },
      "execution_count": 52,
      "outputs": []
    },
    {
      "cell_type": "code",
      "source": [
        "def calcula_mostra_matriz_confusao(df_transform_modelo, normalize=False, percentage=True):\n",
        "  tp = df_transform_modelo.select('label', 'prediction').where((f.col('label') == 1) & (f.col('prediction') == 1)).count()\n",
        "  tn = df_transform_modelo.select('label', 'prediction').where((f.col('label') == 0) & (f.col('prediction') == 0)).count()\n",
        "  fp = df_transform_modelo.select('label', 'prediction').where((f.col('label') == 0) & (f.col('prediction') == 1)).count()\n",
        "  fn = df_transform_modelo.select('label', 'prediction').where((f.col('label') == 1) & (f.col('prediction') == 0)).count()\n",
        "  \n",
        "  valorP = 1\n",
        "  valorN = 1\n",
        "\n",
        "  if normalize:\n",
        "    valorP = tp + fn\n",
        "    valorN = fp + tn\n",
        "  \n",
        "  if percentage and normalize:\n",
        "    valorP = valorP / 100\n",
        "    valorN = valorN / 100\n",
        "\n",
        "  print(' '*20, 'Previsto')\n",
        "  print(' '*15, 'Churn', ' '*5 ,'Não-Churn')\n",
        "  print(' '*4, 'Churn', ' '*6, int(tp/valorP), ' '*7, int(fn/valorP))\n",
        "  print('Real')\n",
        "  print(' '*4, 'Não-Churn', ' '*2, int(fp/valorN), ' '*7, int(tn/valorN))"
      ],
      "metadata": {
        "id": "15f9ZUXGps4o"
      },
      "execution_count": 53,
      "outputs": []
    },
    {
      "cell_type": "markdown",
      "source": [
        "# 6.1 - Tratamento formato DecisionTreeClassifier (Treino e Teste)\n",
        "\n",
        "\n"
      ],
      "metadata": {
        "id": "mzqKWAUjh2Y0"
      }
    },
    {
      "cell_type": "code",
      "source": [
        "dtc = DecisionTreeClassifier(seed = Seed)\n",
        "modelo_dtc = dtc.fit(treino)\n",
        "previsoes_dtc_treino = modelo_dtc.transform(treino)\n",
        "\n",
        "\n",
        "evaluator = MulticlassClassificationEvaluator()\n",
        "evaluator.evaluate(previsoes_dtc_treino, {evaluator.metricName: 'accuracy'})\n",
        "\n",
        "\n",
        "previsoes_dtc_teste = modelo_dtc.transform(teste)\n",
        "evaluator.evaluate(previsoes_dtc_teste, {evaluator.metricName: 'accuracy'})"
      ],
      "metadata": {
        "colab": {
          "base_uri": "https://localhost:8080/"
        },
        "id": "EpIwZSQr12fG",
        "outputId": "faa3008b-6efa-440e-d9ef-04d74b16ba50"
      },
      "execution_count": 54,
      "outputs": [
        {
          "output_type": "execute_result",
          "data": {
            "text/plain": [
              "0.7714831317632082"
            ]
          },
          "metadata": {},
          "execution_count": 54
        }
      ]
    },
    {
      "cell_type": "markdown",
      "source": [
        "# 6.1.1 - Resultado dos Testes"
      ],
      "metadata": {
        "id": "hNfWwnhWidms"
      }
    },
    {
      "cell_type": "code",
      "source": [
        "resultado_treino_teste(previsoes_dtc_treino, previsoes_dtc_teste)"
      ],
      "metadata": {
        "colab": {
          "base_uri": "https://localhost:8080/"
        },
        "id": "NNQCLc6dgAnv",
        "outputId": "ceb3f6bc-36bd-41b6-8d5e-31654a6df1d6"
      },
      "execution_count": 55,
      "outputs": [
        {
          "output_type": "stream",
          "name": "stdout",
          "text": [
            "Decision Tree Classifier\n",
            "========================================\n",
            "Dados de Treino\n",
            "========================================\n",
            "Matriz de Confusão\n",
            "----------------------------------------\n",
            "                     Previsto\n",
            "                Churn       Não-Churn\n",
            "     Churn        2784         827\n",
            "Real\n",
            "     Não-Churn    674         2921\n",
            "----------------------------------------\n",
            "Métricas\n",
            "----------------------------------------\n",
            "Acurácia: 0.791701\n",
            "Precisão: 0.805090\n",
            "Recall: 0.770978\n",
            "F1: 0.787664\n",
            "\n",
            "========================================\n",
            "Dados de Teste\n",
            "========================================\n",
            "Matriz de Confusão\n",
            "----------------------------------------\n",
            "                     Previsto\n",
            "                Churn       Não-Churn\n",
            "     Churn        1181         382\n",
            "Real\n",
            "     Não-Churn    336         1243\n",
            "----------------------------------------\n",
            "Métricas\n",
            "----------------------------------------\n",
            "Acurácia: 0.771483\n",
            "Precisão: 0.778510\n",
            "Recall: 0.755598\n",
            "F1: 0.766883\n"
          ]
        }
      ]
    },
    {
      "cell_type": "markdown",
      "source": [
        "# 6.2 - Tratamento formato DecisionTreeClassifier (Treino)"
      ],
      "metadata": {
        "id": "2xAvJBZTkn3j"
      }
    },
    {
      "cell_type": "code",
      "source": [
        "dtc = DecisionTreeClassifier(seed = Seed)\n",
        "\n",
        "\n",
        "grid = ParamGridBuilder()\\\n",
        "        .addGrid(dtc.maxDepth,[2, 5, 10])\\\n",
        "        .addGrid(dtc.maxBins,[10, 32, 45])\\\n",
        "        .build()"
      ],
      "metadata": {
        "id": "LDFHtmSNkTQd"
      },
      "execution_count": 56,
      "outputs": []
    },
    {
      "cell_type": "code",
      "source": [
        "evaluator = MulticlassClassificationEvaluator()\n",
        "\n",
        "\n",
        "dtc_cv = CrossValidator(\n",
        "    estimator=dtc,\n",
        "    estimatorParamMaps=grid,\n",
        "    evaluator=evaluator,\n",
        "    numFolds=3,\n",
        "    seed=Seed\n",
        ")\n",
        "\n",
        "\n",
        "modelo_dtc_cv = dtc_cv.fit(treino)\n",
        "\n",
        "\n",
        "previsoes_dtc_cv_teste = modelo_dtc_cv.transform(teste)"
      ],
      "metadata": {
        "id": "uexAOi5VkVp9"
      },
      "execution_count": 57,
      "outputs": []
    },
    {
      "cell_type": "markdown",
      "source": [
        "# 6.2.1 - Resultado dos Testes"
      ],
      "metadata": {
        "id": "c7jTRXxLkrBU"
      }
    },
    {
      "cell_type": "code",
      "source": [
        "resultado_teste(previsoes_dtc_cv_teste)"
      ],
      "metadata": {
        "colab": {
          "base_uri": "https://localhost:8080/"
        },
        "id": "pEd9WnPAkXSl",
        "outputId": "c35556b5-01c4-4374-a76d-148b64f8202a"
      },
      "execution_count": 58,
      "outputs": [
        {
          "output_type": "stream",
          "name": "stdout",
          "text": [
            "Decision Tree Classifier - Tuning\n",
            "========================================\n",
            "Dados de Teste\n",
            "========================================\n",
            "Matriz de Confusão\n",
            "----------------------------------------\n",
            "                     Previsto\n",
            "                Churn       Não-Churn\n",
            "     Churn        1327         236\n",
            "Real\n",
            "     Não-Churn    423         1156\n",
            "----------------------------------------\n",
            "Métricas\n",
            "----------------------------------------\n",
            "Acurácia: 0.790261\n",
            "Precisão: 0.758286\n",
            "Recall: 0.849008\n",
            "F1: 0.801087\n"
          ]
        }
      ]
    },
    {
      "cell_type": "markdown",
      "source": [
        "# 7.1 - Tratamento formato RandomForestClassifier (Treino e Teste)"
      ],
      "metadata": {
        "id": "Hyy4yCNfjf3U"
      }
    },
    {
      "cell_type": "code",
      "source": [
        "rfc = RandomForestClassifier(seed = Seed)\n",
        "\n",
        "\n",
        "modelo_rfc = rfc.fit(treino)\n",
        "previsoes_rfc_treino = modelo_rfc.transform(treino)\n",
        "\n",
        "\n",
        "previsoes_rfc_teste = modelo_rfc.transform(teste)"
      ],
      "metadata": {
        "id": "4n9x3QqO9EFb"
      },
      "execution_count": 59,
      "outputs": []
    },
    {
      "cell_type": "markdown",
      "source": [
        "#7.1.1 - Resultado dos Testes"
      ],
      "metadata": {
        "id": "e0JkYMFMihy-"
      }
    },
    {
      "cell_type": "code",
      "source": [
        "resultado_treino_teste(previsoes_rfc_treino, previsoes_rfc_teste)"
      ],
      "metadata": {
        "colab": {
          "base_uri": "https://localhost:8080/"
        },
        "id": "Rblgd7A7hHtU",
        "outputId": "ba650f8a-c497-4a34-a35c-f5662bd24445"
      },
      "execution_count": 60,
      "outputs": [
        {
          "output_type": "stream",
          "name": "stdout",
          "text": [
            "Decision Tree Classifier\n",
            "========================================\n",
            "Dados de Treino\n",
            "========================================\n",
            "Matriz de Confusão\n",
            "----------------------------------------\n",
            "                     Previsto\n",
            "                Churn       Não-Churn\n",
            "     Churn        2950         661\n",
            "Real\n",
            "     Não-Churn    884         2711\n",
            "----------------------------------------\n",
            "Métricas\n",
            "----------------------------------------\n",
            "Acurácia: 0.785595\n",
            "Precisão: 0.769431\n",
            "Recall: 0.816948\n",
            "F1: 0.792478\n",
            "\n",
            "========================================\n",
            "Dados de Teste\n",
            "========================================\n",
            "Matriz de Confusão\n",
            "----------------------------------------\n",
            "                     Previsto\n",
            "                Churn       Não-Churn\n",
            "     Churn        1257         306\n",
            "Real\n",
            "     Não-Churn    416         1163\n",
            "----------------------------------------\n",
            "Métricas\n",
            "----------------------------------------\n",
            "Acurácia: 0.770210\n",
            "Precisão: 0.751345\n",
            "Recall: 0.804223\n",
            "F1: 0.776885\n"
          ]
        }
      ]
    },
    {
      "cell_type": "markdown",
      "source": [
        "# 7.2 - Tratamento formato RandomForestClassifier (Treino)\n",
        "\n"
      ],
      "metadata": {
        "id": "1E2tmS0zldIs"
      }
    },
    {
      "cell_type": "code",
      "source": [
        "rfc = RandomForestClassifier(seed = Seed)\n",
        "\n",
        "\n",
        "grid = ParamGridBuilder()\\\n",
        "        .addGrid(rfc.maxDepth,[2, 5, 10])\\\n",
        "        .addGrid(rfc.maxBins,[10, 32, 45])\\\n",
        "        .addGrid(rfc.numTrees,[10, 20, 50])\\\n",
        "        .build()"
      ],
      "metadata": {
        "id": "xPdmRsxW2uOT"
      },
      "execution_count": 61,
      "outputs": []
    },
    {
      "cell_type": "code",
      "source": [
        "evaluator = MulticlassClassificationEvaluator()\n",
        "\n",
        "\n",
        "rfc_cv = CrossValidator(\n",
        "    estimator=rfc,\n",
        "    estimatorParamMaps=grid,\n",
        "    evaluator=evaluator,\n",
        "    numFolds=3,\n",
        "    seed=Seed\n",
        ")\n",
        "\n",
        "\n",
        "modelo_rfc_cv = rfc_cv.fit(treino)\n",
        "\n",
        "\n",
        "previsoes_rfc_cv_teste = modelo_rfc_cv.transform(teste)"
      ],
      "metadata": {
        "id": "FBqDuXMt2yza"
      },
      "execution_count": 62,
      "outputs": []
    },
    {
      "cell_type": "markdown",
      "source": [
        "#7.2.1 - Resultado dos Testes\n",
        "\n"
      ],
      "metadata": {
        "id": "mEg_O9GYinSr"
      }
    },
    {
      "cell_type": "code",
      "source": [
        "resultado_teste(previsoes_rfc_cv_teste)"
      ],
      "metadata": {
        "colab": {
          "base_uri": "https://localhost:8080/"
        },
        "id": "ojYxFzr9hkvE",
        "outputId": "213e191b-cb83-4778-ba00-63f75c4ff9c3"
      },
      "execution_count": 63,
      "outputs": [
        {
          "output_type": "stream",
          "name": "stdout",
          "text": [
            "Decision Tree Classifier - Tuning\n",
            "========================================\n",
            "Dados de Teste\n",
            "========================================\n",
            "Matriz de Confusão\n",
            "----------------------------------------\n",
            "                     Previsto\n",
            "                Churn       Não-Churn\n",
            "     Churn        1327         236\n",
            "Real\n",
            "     Não-Churn    423         1156\n",
            "----------------------------------------\n",
            "Métricas\n",
            "----------------------------------------\n",
            "Acurácia: 0.790261\n",
            "Precisão: 0.758286\n",
            "Recall: 0.849008\n",
            "F1: 0.801087\n"
          ]
        }
      ]
    },
    {
      "cell_type": "markdown",
      "source": [
        "#8 - Modelo Definido\n",
        "#### Com base nos analises anteriores foi definido como esta a melhor forma de encontrar o churn"
      ],
      "metadata": {
        "id": "rzuieD_sl0x8"
      }
    },
    {
      "cell_type": "code",
      "source": [
        "melhor_modelo_rfc_cv = modelo_rfc_cv.bestModel\n",
        "\n",
        "\n",
        "rfc_tunning = RandomForestClassifier(maxDepth=10, maxBins=45, numTrees=10, seed=Seed)\n",
        "modelo_rfc_tunning = rfc_tunning.fit(dataset_pred)"
      ],
      "metadata": {
        "id": "o4BodLlN-NjL"
      },
      "execution_count": 64,
      "outputs": []
    },
    {
      "cell_type": "markdown",
      "source": [
        "# 8.1 - Definição por um cliente do Zero\n",
        "#### Foi criado este cliente para demonstrar que com base somente nos dados necessarios é possivel fazer o levantamento."
      ],
      "metadata": {
        "id": "mEbEz0uVnHF-"
      }
    },
    {
      "cell_type": "code",
      "source": [
        "novo_cliente = [{\n",
        "    'Mais65anos': 0,\n",
        "    'MesesDeContrato': 1,\n",
        "    'MesesCobrados': 45.30540797610398,\n",
        "    'Conjuge': 0,\n",
        "    'Dependentes': 0,\n",
        "    'TelefoneFixo': 0,\n",
        "    'MaisDeUmaLinhaTelefonica': 0,\n",
        "    'SegurancaOnline': 0,\n",
        "    'BackupOnline': 0,\n",
        "    'SeguroDispositivo': 0,\n",
        "    'SuporteTecnico': 0,\n",
        "    'TVaCabo': 1,\n",
        "    'StreamingFilmes': 1,\n",
        "    'ContaCorreio': 1,\n",
        "    'Internet_DSL': 1,\n",
        "    'Internet_FibraOptica': 0,\n",
        "    'Internet_Nao': 0,\n",
        "    'TipoContrato_Mensalmente': 1,\n",
        "    'TipoContrato_UmAno': 0,\n",
        "    'TipoContrato_DoisAnos': 0,\n",
        "    'MetodoPagamento_DebitoEmConta': 0,\n",
        "    'MetodoPagamento_CartaoCredito': 0,\n",
        "    'MetodoPagamento_BoletoEletronico': 1,\n",
        "    'MetodoPagamento_Boleto': 0\n",
        "}]"
      ],
      "metadata": {
        "id": "xezpJy_6_D6T"
      },
      "execution_count": 65,
      "outputs": []
    },
    {
      "cell_type": "markdown",
      "source": [
        "#8.2 Tratamento do novo cliente"
      ],
      "metadata": {
        "id": "fGDJmbiAoGi9"
      }
    },
    {
      "cell_type": "code",
      "source": [
        "novo_cliente = spark.createDataFrame(novo_cliente)\n",
        "novo_cliente.show()"
      ],
      "metadata": {
        "colab": {
          "base_uri": "https://localhost:8080/"
        },
        "id": "guuFhrez_Hcr",
        "outputId": "9f0341c7-ac0a-402c-ea89-6db926abaf31"
      },
      "execution_count": 66,
      "outputs": [
        {
          "output_type": "stream",
          "name": "stdout",
          "text": [
            "+------------+-------+------------+-----------+------------+--------------------+------------+----------+------------------------+-----------------+---------------+----------------------+--------------------------------+-----------------------------+-----------------------------+---------------+-----------------+---------------+--------------+-------+------------+---------------------+------------------------+------------------+\n",
            "|BackupOnline|Conjuge|ContaCorreio|Dependentes|Internet_DSL|Internet_FibraOptica|Internet_Nao|Mais65anos|MaisDeUmaLinhaTelefonica|    MesesCobrados|MesesDeContrato|MetodoPagamento_Boleto|MetodoPagamento_BoletoEletronico|MetodoPagamento_CartaoCredito|MetodoPagamento_DebitoEmConta|SegurancaOnline|SeguroDispositivo|StreamingFilmes|SuporteTecnico|TVaCabo|TelefoneFixo|TipoContrato_DoisAnos|TipoContrato_Mensalmente|TipoContrato_UmAno|\n",
            "+------------+-------+------------+-----------+------------+--------------------+------------+----------+------------------------+-----------------+---------------+----------------------+--------------------------------+-----------------------------+-----------------------------+---------------+-----------------+---------------+--------------+-------+------------+---------------------+------------------------+------------------+\n",
            "|           0|      0|           1|          0|           1|                   0|           0|         0|                       0|45.30540797610398|              1|                     0|                               1|                            0|                            0|              0|                0|              1|             0|      1|           0|                    0|                       1|                 0|\n",
            "+------------+-------+------------+-----------+------------+--------------------+------------+----------+------------------------+-----------------+---------------+----------------------+--------------------------------+-----------------------------+-----------------------------+---------------+-----------------+---------------+--------------+-------+------------+---------------------+------------------------+------------------+\n",
            "\n"
          ]
        }
      ]
    },
    {
      "cell_type": "code",
      "source": [
        "assembler = VectorAssembler(inputCols=x, outputCol= 'features')\n",
        "novo_cliente_pred = assembler.transform(novo_cliente).select('features')\n",
        "novo_cliente_pred.show(truncate=False)"
      ],
      "metadata": {
        "colab": {
          "base_uri": "https://localhost:8080/"
        },
        "id": "Dljuzt8h_UBy",
        "outputId": "99b23017-08df-416a-8316-192c2d1b51dc"
      },
      "execution_count": 67,
      "outputs": [
        {
          "output_type": "stream",
          "name": "stdout",
          "text": [
            "+----------------------------------------------------------------------------+\n",
            "|features                                                                    |\n",
            "+----------------------------------------------------------------------------+\n",
            "|(24,[1,2,11,12,13,14,17,22],[1.0,45.30540797610398,1.0,1.0,1.0,1.0,1.0,1.0])|\n",
            "+----------------------------------------------------------------------------+\n",
            "\n"
          ]
        }
      ]
    },
    {
      "cell_type": "markdown",
      "source": [
        "# 9 - Resultado Final\n",
        "#### Com base nos dados recebidos foi possivel fazer a analise se sera um churn ou não, como é possivel ver na coluna (prediction), sendo assim concluido o projeto."
      ],
      "metadata": {
        "id": "h3fieKEVniHM"
      }
    },
    {
      "cell_type": "code",
      "source": [
        "modelo_rfc_tunning.transform(novo_cliente_pred).show()"
      ],
      "metadata": {
        "colab": {
          "base_uri": "https://localhost:8080/"
        },
        "id": "518oq2p3BgYz",
        "outputId": "423a2cb1-7ec8-4f20-a51d-ad93c1157a1a"
      },
      "execution_count": 68,
      "outputs": [
        {
          "output_type": "stream",
          "name": "stdout",
          "text": [
            "+--------------------+--------------------+--------------------+----------+\n",
            "|            features|       rawPrediction|         probability|prediction|\n",
            "+--------------------+--------------------+--------------------+----------+\n",
            "|(24,[1,2,11,12,13...|[1.24640781461703...|[0.12464078146170...|       1.0|\n",
            "+--------------------+--------------------+--------------------+----------+\n",
            "\n"
          ]
        }
      ]
    }
  ]
}